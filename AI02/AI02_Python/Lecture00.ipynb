{
 "cells": [
  {
   "cell_type": "markdown",
   "metadata": {},
   "source": [
    "# MarkDown 예제\n",
    "## MarkDown 예제\n",
    "### MarkDown 예제\n",
    "#### MarkDown 예제\n",
    "\n",
    "**python** is really *cool*\n",
    "\n",
    "- python\n",
    "    - pandas\n",
    "        - depth1\n",
    "        - depth2\n",
    "    - numpy\n",
    "- java\n",
    "- c++\n",
    "- golang\n",
    "\n",
    "1. python\n",
    "2. java\n",
    "3. c++\n",
    "\n",
    "> 파이썬은 재밌다고 하더라...\n",
    "\n",
    "- 수학식\n",
    "$ y = 3x $\n",
    "\n",
    "- 코드처럼 인식\n",
    "```python\n",
    "# 파이썬 코드로 인식하시오\n",
    "a = 10\n",
    "print(a)\n",
    "```\n",
    "- 링크 만들기\n",
    "[파이썬 공식 페이지](https://www.python.org/)\n",
    "\n"
   ]
  },
  {
   "cell_type": "code",
   "execution_count": null,
   "metadata": {},
   "outputs": [],
   "source": [
    "# 기본 타입 및 변수의 이해\n",
    "\n",
    "a = 10\n",
    "b = 11.4"
   ]
  },
  {
   "cell_type": "code",
   "execution_count": null,
   "metadata": {},
   "outputs": [],
   "source": []
  },
  {
   "cell_type": "code",
   "execution_count": null,
   "metadata": {},
   "outputs": [],
   "source": []
  }
 ],
 "metadata": {
  "language_info": {
   "name": "python"
  }
 },
 "nbformat": 4,
 "nbformat_minor": 2
}
