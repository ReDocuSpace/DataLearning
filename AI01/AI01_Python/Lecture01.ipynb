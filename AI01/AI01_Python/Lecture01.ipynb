{
 "cells": [
  {
   "cell_type": "code",
   "execution_count": null,
   "metadata": {},
   "outputs": [],
   "source": [
    "### 주피터 노트북 Ipynb 단축키\n",
    "# cell 선택 + b : 아래 셀 추가\n",
    "# cell 선택 + a : 위에 셀 추가\n",
    "# cell 선택 + dd : 셀 삭제\n",
    "# cell 선택 > edit > undo delete cell\n",
    "# cell 선택 + shift + enter : 샐 실행\n",
    "# cell 선택 + 상하 방향키 : 셀 이동\n",
    "# cell 선택 + c : 셀 복사\n",
    "# cell 선택 + v : 셀 붙여넣기\n",
    "# cell 선택 + L : line index 추가\n",
    "# cell 선택 + enter : 편집모드\n",
    "# cell 선택 + shift + m : 셀 병합\n",
    "\n",
    "## Cell error시\n",
    "# kernel > interrupt\n",
    "# kernel > restart\n",
    "\n",
    "###\n",
    "# 한 줄 주석 : #\n",
    "# 여러 줄 주석 : ''' '''\n",
    "\n",
    "###\n",
    "# 편집모드 + 마우스 위치 + Ctrl + Shift + '-'\\\n",
    "# cell > run all\n",
    "# cell > run all below\n",
    "# 주석 on & off -> 마우스 드래그 선택 : ctrl + '/'"
   ]
  },
  {
   "cell_type": "markdown",
   "metadata": {},
   "source": [
    "# 변수"
   ]
  },
  {
   "cell_type": "markdown",
   "metadata": {},
   "source": [
    "### PT 내용 정리"
   ]
  },
  {
   "cell_type": "code",
   "execution_count": null,
   "metadata": {},
   "outputs": [],
   "source": []
  },
  {
   "cell_type": "markdown",
   "metadata": {},
   "source": [
    "### 실습 정리"
   ]
  },
  {
   "cell_type": "code",
   "execution_count": null,
   "metadata": {},
   "outputs": [],
   "source": []
  },
  {
   "cell_type": "markdown",
   "metadata": {},
   "source": [
    "# 연산자"
   ]
  },
  {
   "cell_type": "markdown",
   "metadata": {},
   "source": [
    "### PT 내용 정리"
   ]
  },
  {
   "cell_type": "code",
   "execution_count": null,
   "metadata": {},
   "outputs": [],
   "source": []
  },
  {
   "cell_type": "markdown",
   "metadata": {},
   "source": [
    "### 실습 정리"
   ]
  },
  {
   "cell_type": "code",
   "execution_count": null,
   "metadata": {},
   "outputs": [],
   "source": []
  },
  {
   "cell_type": "markdown",
   "metadata": {},
   "source": [
    "# 문제 풀이"
   ]
  },
  {
   "cell_type": "code",
   "execution_count": null,
   "metadata": {},
   "outputs": [],
   "source": [
    "# 1. 계절 이름을 입력을 받은 후, \"지금은 <계절>입니다\"를\n",
    "# 출력하는 코드를 구현하시오..\n",
    "\n",
    "# 2. 계절 이름과 월을 입력을 받은 후,\n",
    "# \"지금은 <계절>이고 <월>입니다\"를\n",
    "# 출력하는 코드를 구현하시오..\n",
    "\n",
    "\n",
    "\n",
    "### str 문제\n",
    "text = \"python programming is fun!!\"\n",
    "text1 = \"Java Is Interesting\"\n",
    "text2 = \"2023/11/14 Thu 12:47:35\"\n",
    "\n",
    "# 1. programming을 출력하시오\n",
    "# 2. 'p' 가 몇 개 들어 있는가?\n",
    "# 3, space를 기준으로 나누어서 리스트에 담으시오..\n",
    "# 4. fun을 easy로 수정하시오..\n",
    "# 5. 'g'는 몇 번쨰 인덱스에 존재하는가\n",
    "# 6. 문자열의 길이를 출력하시오\n",
    "# 7. 'k'가 문자열에 포함되는지 확인하시오.\n",
    "# 8. text와 text1을 연결하시오..\n",
    "# 9. 10번 째 문자를 출력하시오\n",
    "# 10. 마지막 5글자를 출력하시오\n",
    "# 11. 짝수 인덱스만 출력하시오.\n",
    "# 12. 슬라이싱을 통해서 pro를 출력하시오..\n",
    "# 13. text1을 3번 반복하시오..\n",
    "# 14. text1을 소문자로 바꾸시오..\n",
    "# 15. text2에서 년, 월, 일, 요일, 시, 분, 초를 각각 변수\n",
    "#     year, mon, day, yo, hour, min, sec에 저장하시오\n",
    "# 16. text 문자열을 역순으로 출력하시오.\n",
    "# 17. 임의의 두 정수 a, b를 입력받은 후 \"<정수>가 <정수>보다 큽니다. a로 b를 곱한값,\n",
    "#    나눈값, 그리고 a의 b승 값은 각가 <숫자>, <숫자>, <숫자> 입니다. 그리고 a와 b는\n",
    "#    각각 <짝/홀수>입니다 \"로 출력되도록 하시오\n",
    "# 18. 10번 문자열을 'xxx'로 수정하시오...\n",
    "text = \"python programming is fun!!\"\n",
    "\n",
    "### List 문제\n",
    "# solarsys 에서\n",
    "#   ['수성', '금성', '지구']를 출력하시오\n",
    "# '지구'의 인덱스값 출력\n",
    "# '화성'을 '해왕성'으로 수정하시오\n",
    "# 맨 뒤에 '토성'을 추가하시오\n",
    "# '수성'자리에 '명왕성'을 삽입\n",
    "# 맨 끝 요소를 삭제하고 삭제한 값을 리턴하시오\n",
    "# 1 ~ 3 번 인덱스까지 삭제하시오\n",
    "#  인덱스 2번 요소를 삭제하시오\n",
    "\n",
    "# solarsys와 solarsys1을 합하시오\n",
    "# solarsys 의 원소의 순서를 역순으로 하시오\n",
    "# solarsys에 '만리장성'이 있는지 확인하시오\n",
    "# solarsys1을 세 번 반복하시오\n",
    "# solaysys의 길이를 출력하시오\n",
    "# solarsys의 모든 원소를 지우시오\n",
    "# solarsys 리스트를 제거하시오\n",
    "\n",
    "### Tuple 문제\n",
    "# tuple quiz\n",
    "\n",
    "myTuple = ('tuple', (1,2,3), [4,5,6])\n",
    "\n",
    "#  'tuple'을 출력하시오\n",
    "#  3을 출력하시오\n",
    "#  4, 5를 출력하세요\n",
    "#  (1,2,3)을 출력하세요\n",
    "\n",
    "my_tuple = (1,2,3,3,2,1)\n",
    "your_tuple = (4,5,6)\n",
    "\n",
    "# my_tuple과 your_tuple을 연결하세요\n",
    "# my_tuple에 3이 몇 개 존재하는가\n",
    "# my_tuple에 2가 존재하는가?\n",
    "# my_tuple에서 2의 index를 출력하세요\n",
    "\n",
    "### Dict 문제\n",
    "names = {'Mary':10999, 'Sams':2111, 'Aimy':9778, 'Tom':20245,\n",
    "'Michale':27115, 'Bob':5887, 'Kelly':7855}\n",
    "\n",
    "# Aimy의 value를 10000으로 수정하세요\n",
    "# 'Sams'를 삭제하세요\n",
    "# value 값들의 합을 구하세요\n",
    "# value 값들의 최대값을 구하세요\n",
    "# key값들을 출력하세요\n",
    "# value값들을 출력하세요\n",
    "# 키는 'Jane', 값은 5688인 요소를 추가하세요..\n",
    "# name의 key와 valule를 튜플쌍으로 묶어서 출력\n",
    "# 모든 요소를 삭제하세요\n",
    "# names dict의 원소의 수를 출력하시오\n",
    "# names의 key에 Tom이 있는지 확인하시오..\n",
    "# 'Tom' in names.values()\n",
    "# names에서 Jane이 있으면 값을 출력하고, 없으면 0을 출력하시오.\n",
    "# names['Jane'] -- error\n",
    "\n",
    "# names의 값에 5887이 있는지 확인하시오.\n",
    "# key가 'Park'인 원소의 값을 출력하시오. 만약 'Park'이 없어도 error를 띄우지 않도록 하시오\n",
    "# names['Park'] -- error\n",
    "# key는 'Jina', value은 7000인 요소를 추가하세요..\n",
    "# 이름을 입력받고 입력된 이름이 names에 있으면 값을 출력하고, 없으면 값 3000으로\n",
    "#   names에 추가하시오\n",
    "\n",
    "mydict = {'Jane' : {'Park': 2000, 'Kim':3000}}\n",
    "# 'Kim'의 값을 출력하시오\n",
    "\n",
    "### Set 문제\n",
    "\n",
    "# 원소가 없는 set인 s를 만드세요\n",
    "# s = {} - dict\n",
    "# s에 원소 'sky'와 'earth'를 추가하세요\n",
    "# s에 1,2 두 원소를 추가하세요\n",
    "# s에서 'sky'를 삭제하세요\n",
    "# s.discard('sky')\n",
    "# 두 집합의 합집합을 출력\n",
    "# 두 집합의 교집합을 출력\n",
    "# A의 B에 대한 차집합\n",
    "# 대칭차집합\n",
    "# C가 A의 부분집합인지 확인\n",
    "# A가 C를 포함하는지 확인\n",
    "# 집합 B의 길이를 출력\n",
    "# 집합 B의 최대값 출력\n",
    "# 집합 B의 최소값 출력\n",
    "# 집합 B의 합을 출력\n",
    "# 집합 B의 평균출력\n",
    "# 집합 B의 내림차순 출력\n",
    "# 집합 B에 5가 포함되어 있는지 확인"
   ]
  },
  {
   "cell_type": "code",
   "execution_count": null,
   "metadata": {},
   "outputs": [],
   "source": []
  },
  {
   "cell_type": "code",
   "execution_count": null,
   "metadata": {},
   "outputs": [],
   "source": []
  }
 ],
 "metadata": {
  "kernelspec": {
   "display_name": "Python 3",
   "language": "python",
   "name": "python3"
  },
  "language_info": {
   "codemirror_mode": {
    "name": "ipython",
    "version": 3
   },
   "file_extension": ".py",
   "mimetype": "text/x-python",
   "name": "python",
   "nbconvert_exporter": "python",
   "pygments_lexer": "ipython3",
   "version": "3.12.0"
  }
 },
 "nbformat": 4,
 "nbformat_minor": 2
}
